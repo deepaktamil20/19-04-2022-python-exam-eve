from scipy import stats
Probability = stats.poisson.cdf(80,76)
print("The probability number of pizza sales exceeds 80 in a day",Probability)
